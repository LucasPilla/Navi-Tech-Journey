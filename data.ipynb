{
 "cells": [
  {
   "cell_type": "markdown",
   "id": "b30d82f5-f55d-4b6a-acbe-4c15fdda7296",
   "metadata": {},
   "source": [
    "# 1) Introdução"
   ]
  },
  {
   "cell_type": "markdown",
   "id": "214eba4f-27b9-48b3-81be-be75dce23b1c",
   "metadata": {},
   "source": [
    "O intuito do presente trabalho é desenvolver um protótipo de uma plataforma que compile métricas sociais de organizações listadas na bolsa brasileira, promovendo assim, uma maior transparência para investidores conscientes tomarem suas decisões. \n",
    "\n",
    "Dentro do desafio proposto, cujo objetivo é responder à pergunta *\"Como a tecnologia pode ajudar investidores, gestores ou empresas a aderirem ao ESG de forma consciente e produtiva?\"*, optamos por sintetizar em uma única plataforma métricas colhidas a partir de colaboradores e clientes das organizações, dando um score final a cada organização. Nosso intuito é dar uma maior visibilidade ao âmbito **Social** dentro do ESG e, para isso, desenvolvemos uma solução que irá quantificar o quanto uma organização está desenvolvida nas seguintes questões:\n",
    "\n",
    "- **Políticas de diversidade e inclusão**: Serão coletados dados de funcionários da organização via web scrapping do Linkedin, a fim de quantificar a distribuição de gênero destes. Será desenvolvido um modelo de NLP que irá identificar o gênero do colaborador a partir do seu nome e, ao final, será criada uma métrica que irá aumentar o score final da organização quando essa distribuição entre colaboradores femininos e masculinos mais se aproximará de 50/50.\n",
    "\n",
    "- **Qualidade do atendimento ao cliente**: Serão coletados os scores do ReclameAqui das organizações, a fim de identificar aquelas que possuem uma melhor política de atendimento.\n",
    "\n",
    "- **Relações de trabalho**: Serão coletados os scores do Glassdoor, a fim de identificar aquelas que possuem um maior reconhecimento por parte dos seus colaboradores.\n",
    "\n",
    "A nível de demonstração, foram escolhidas duas organizações do setor de varejo para que possamos comparar seus indicadores e inferirmos qual está mais avançada nas politica sociais do ESG, sendo elas a **Magazine Luiza** e a **Americanas S.A**.\n",
    "\n"
   ]
  },
  {
   "cell_type": "markdown",
   "id": "ca6eed69-634b-4231-a4a9-3204b5cb55e2",
   "metadata": {},
   "source": [
    "# 2) Importação das bibliotecas"
   ]
  },
  {
   "cell_type": "code",
   "execution_count": 154,
   "id": "6bb92f99-9398-40a0-983a-b8de11ca18b5",
   "metadata": {},
   "outputs": [],
   "source": [
    "import pandas as pd\n",
    "import numpy as np\n",
    "import random\n",
    "\n",
    "from nltk.corpus import names\n",
    "from nltk.classify import apply_features"
   ]
  },
  {
   "cell_type": "markdown",
   "id": "91c440fc-1f55-4506-a000-eb9d0481fdda",
   "metadata": {},
   "source": [
    "# 3) Políticas de diversidade e inclusão"
   ]
  },
  {
   "cell_type": "markdown",
   "id": "0814517c-0b92-49b9-933c-88446cd66612",
   "metadata": {},
   "source": [
    "## 3.1) Magazine Luiza"
   ]
  },
  {
   "cell_type": "markdown",
   "id": "c8029f76-225e-4d59-97d8-0f851de65d78",
   "metadata": {},
   "source": [
    "### 3.1.1) Importação e limpeza dos dados de colaboradores "
   ]
  },
  {
   "cell_type": "markdown",
   "id": "088dc39e-83ac-4c5b-a4b1-c8b347600529",
   "metadata": {},
   "source": [
    "Primeiro, vamos importar o arquivo CSV contendo a lista de colaboradores da Magazine Luiza. A lista foi obtida por meio da plataforma Phantom Buster (https://phantombuster.com/), que utiliza web scrapping para retornar os valores em formato estruturado, dado um link contendo a pesquisa do Linkedin. Por limitações da própria plataforma, é permitido apenas o dowload de 1.000 registros por dia, de forma que teremos que trabalhar com apenas uma amostra."
   ]
  },
  {
   "cell_type": "code",
   "execution_count": 157,
   "id": "41a6beaf-0203-46e9-bd64-db5775cc6710",
   "metadata": {},
   "outputs": [
    {
     "name": "stdout",
     "output_type": "stream",
     "text": [
      "Shape:  (999, 19)\n",
      "Colunas:  Index(['profileUrl', 'fullName', 'firstName', 'lastName', 'profileImageUrl',\n",
      "       'currentJob', 'pastJob', 'connectionDegree', 'job', 'location',\n",
      "       'sharedConnections', 'commonConnection1', 'commonConnection2', 'url',\n",
      "       'name', 'query', 'category', 'timestamp', 'error'],\n",
      "      dtype='object')\n"
     ]
    }
   ],
   "source": [
    "nomes_ml = pd.read_csv(\"magalu.csv\")\n",
    "print(\"Shape: \", nomes_ml.shape)\n",
    "print(\"Colunas: \", nomes_ml.columns)"
   ]
  },
  {
   "cell_type": "code",
   "execution_count": 158,
   "id": "00ee15e3-87f1-43ca-abaf-38407f3fa2ae",
   "metadata": {},
   "outputs": [
    {
     "data": {
      "text/html": [
       "<div>\n",
       "<style scoped>\n",
       "    .dataframe tbody tr th:only-of-type {\n",
       "        vertical-align: middle;\n",
       "    }\n",
       "\n",
       "    .dataframe tbody tr th {\n",
       "        vertical-align: top;\n",
       "    }\n",
       "\n",
       "    .dataframe thead th {\n",
       "        text-align: right;\n",
       "    }\n",
       "</style>\n",
       "<table border=\"1\" class=\"dataframe\">\n",
       "  <thead>\n",
       "    <tr style=\"text-align: right;\">\n",
       "      <th></th>\n",
       "      <th>profileUrl</th>\n",
       "      <th>fullName</th>\n",
       "      <th>firstName</th>\n",
       "      <th>lastName</th>\n",
       "      <th>profileImageUrl</th>\n",
       "      <th>currentJob</th>\n",
       "      <th>pastJob</th>\n",
       "      <th>connectionDegree</th>\n",
       "      <th>job</th>\n",
       "      <th>location</th>\n",
       "      <th>sharedConnections</th>\n",
       "      <th>commonConnection1</th>\n",
       "      <th>commonConnection2</th>\n",
       "      <th>url</th>\n",
       "      <th>name</th>\n",
       "      <th>query</th>\n",
       "      <th>category</th>\n",
       "      <th>timestamp</th>\n",
       "      <th>error</th>\n",
       "    </tr>\n",
       "  </thead>\n",
       "  <tbody>\n",
       "    <tr>\n",
       "      <th>0</th>\n",
       "      <td>https://www.linkedin.com/in/stefanie-joana-gar...</td>\n",
       "      <td>Stefanie Joana Garcia Cavalcanti</td>\n",
       "      <td>Stefanie</td>\n",
       "      <td>Joana Garcia Cavalcanti</td>\n",
       "      <td>https://media-exp1.licdn.com/dms/image/C4D03AQ...</td>\n",
       "      <td>NaN</td>\n",
       "      <td>NaN</td>\n",
       "      <td>2º</td>\n",
       "      <td>Coordenadora de Recrutamento e Seleção - Luiza...</td>\n",
       "      <td>São Paulo, SP</td>\n",
       "      <td>Murilo Gun, Renata Corotti e 12 outras conexõe...</td>\n",
       "      <td>https://www.linkedin.com/in/ACoAAAAGiM4BmEwyac...</td>\n",
       "      <td>https://www.linkedin.com/in/ACoAAAGOiGEBL7SE9a...</td>\n",
       "      <td>https://www.linkedin.com/in/stefanie-joana-gar...</td>\n",
       "      <td>Stefanie Joana Garcia Cavalcanti</td>\n",
       "      <td>https://www.linkedin.com/search/results/people...</td>\n",
       "      <td>People</td>\n",
       "      <td>2021-09-26T15:25:32.519Z</td>\n",
       "      <td>NaN</td>\n",
       "    </tr>\n",
       "    <tr>\n",
       "      <th>1</th>\n",
       "      <td>https://www.linkedin.com/in/larissa-pedroso-01...</td>\n",
       "      <td>Larissa Pedroso</td>\n",
       "      <td>Larissa</td>\n",
       "      <td>Pedroso</td>\n",
       "      <td>https://media-exp1.licdn.com/dms/image/C5603AQ...</td>\n",
       "      <td>NaN</td>\n",
       "      <td>NaN</td>\n",
       "      <td>2º</td>\n",
       "      <td>Coordenadora de Gestão de Pessoas</td>\n",
       "      <td>Curitiba, PR</td>\n",
       "      <td>Rodrigo Sarlo é uma conexão em comum</td>\n",
       "      <td>https://www.linkedin.com/in/ACoAAAT-0A0BfBrCl7...</td>\n",
       "      <td>NaN</td>\n",
       "      <td>https://www.linkedin.com/in/larissa-pedroso-01...</td>\n",
       "      <td>Larissa Pedroso</td>\n",
       "      <td>https://www.linkedin.com/search/results/people...</td>\n",
       "      <td>People</td>\n",
       "      <td>2021-09-26T15:25:32.519Z</td>\n",
       "      <td>NaN</td>\n",
       "    </tr>\n",
       "    <tr>\n",
       "      <th>2</th>\n",
       "      <td>https://www.linkedin.com/in/jaqueline-fernande...</td>\n",
       "      <td>Jaqueline Fernandes</td>\n",
       "      <td>Jaqueline</td>\n",
       "      <td>Fernandes</td>\n",
       "      <td>https://media-exp1.licdn.com/dms/image/C5603AQ...</td>\n",
       "      <td>NaN</td>\n",
       "      <td>NaN</td>\n",
       "      <td>2º</td>\n",
       "      <td>Coordenadora de Recrutamento e Seleção na Maga...</td>\n",
       "      <td>São Paulo, SP</td>\n",
       "      <td>Rodrigo Sarlo, José Alves do Monte e 4 outras ...</td>\n",
       "      <td>https://www.linkedin.com/in/ACoAAAT-0A0BfBrCl7...</td>\n",
       "      <td>https://www.linkedin.com/in/ACoAAAdTjgEBhthWov...</td>\n",
       "      <td>https://www.linkedin.com/in/jaqueline-fernande...</td>\n",
       "      <td>Jaqueline Fernandes</td>\n",
       "      <td>https://www.linkedin.com/search/results/people...</td>\n",
       "      <td>People</td>\n",
       "      <td>2021-09-26T15:25:32.519Z</td>\n",
       "      <td>NaN</td>\n",
       "    </tr>\n",
       "    <tr>\n",
       "      <th>3</th>\n",
       "      <td>https://www.linkedin.com/in/michele-machado</td>\n",
       "      <td>Michele Machado Bernardo</td>\n",
       "      <td>Michele</td>\n",
       "      <td>Machado Bernardo</td>\n",
       "      <td>https://media-exp1.licdn.com/dms/image/C4E03AQ...</td>\n",
       "      <td>NaN</td>\n",
       "      <td>NaN</td>\n",
       "      <td>2º</td>\n",
       "      <td>Analista de Recrutamento e Seleção no Magazine...</td>\n",
       "      <td>São Paulo, SP</td>\n",
       "      <td>Leo Cesar Melo, Rodrigo Sarlo e 4 outras conex...</td>\n",
       "      <td>https://www.linkedin.com/in/ACoAAATnNSYB9Cyi9t...</td>\n",
       "      <td>https://www.linkedin.com/in/ACoAAAT-0A0BfBrCl7...</td>\n",
       "      <td>https://www.linkedin.com/in/michele-machado</td>\n",
       "      <td>Michele Machado Bernardo</td>\n",
       "      <td>https://www.linkedin.com/search/results/people...</td>\n",
       "      <td>People</td>\n",
       "      <td>2021-09-26T15:25:32.519Z</td>\n",
       "      <td>NaN</td>\n",
       "    </tr>\n",
       "    <tr>\n",
       "      <th>4</th>\n",
       "      <td>https://www.linkedin.com/in/jamile-coelho-sale...</td>\n",
       "      <td>Jamile Coelho Sales</td>\n",
       "      <td>Jamile</td>\n",
       "      <td>Coelho Sales</td>\n",
       "      <td>https://media-exp1.licdn.com/dms/image/C4E03AQ...</td>\n",
       "      <td>NaN</td>\n",
       "      <td>NaN</td>\n",
       "      <td>3º+</td>\n",
       "      <td>Coordenadora de Gestão de Pessoas</td>\n",
       "      <td>Salvador, BA</td>\n",
       "      <td>NaN</td>\n",
       "      <td>NaN</td>\n",
       "      <td>NaN</td>\n",
       "      <td>https://www.linkedin.com/in/jamile-coelho-sale...</td>\n",
       "      <td>Jamile Coelho Sales</td>\n",
       "      <td>https://www.linkedin.com/search/results/people...</td>\n",
       "      <td>People</td>\n",
       "      <td>2021-09-26T15:25:32.519Z</td>\n",
       "      <td>NaN</td>\n",
       "    </tr>\n",
       "  </tbody>\n",
       "</table>\n",
       "</div>"
      ],
      "text/plain": [
       "                                          profileUrl  \\\n",
       "0  https://www.linkedin.com/in/stefanie-joana-gar...   \n",
       "1  https://www.linkedin.com/in/larissa-pedroso-01...   \n",
       "2  https://www.linkedin.com/in/jaqueline-fernande...   \n",
       "3        https://www.linkedin.com/in/michele-machado   \n",
       "4  https://www.linkedin.com/in/jamile-coelho-sale...   \n",
       "\n",
       "                           fullName  firstName                 lastName  \\\n",
       "0  Stefanie Joana Garcia Cavalcanti   Stefanie  Joana Garcia Cavalcanti   \n",
       "1                   Larissa Pedroso    Larissa                  Pedroso   \n",
       "2               Jaqueline Fernandes  Jaqueline                Fernandes   \n",
       "3          Michele Machado Bernardo    Michele         Machado Bernardo   \n",
       "4               Jamile Coelho Sales     Jamile             Coelho Sales   \n",
       "\n",
       "                                     profileImageUrl  currentJob  pastJob  \\\n",
       "0  https://media-exp1.licdn.com/dms/image/C4D03AQ...         NaN      NaN   \n",
       "1  https://media-exp1.licdn.com/dms/image/C5603AQ...         NaN      NaN   \n",
       "2  https://media-exp1.licdn.com/dms/image/C5603AQ...         NaN      NaN   \n",
       "3  https://media-exp1.licdn.com/dms/image/C4E03AQ...         NaN      NaN   \n",
       "4  https://media-exp1.licdn.com/dms/image/C4E03AQ...         NaN      NaN   \n",
       "\n",
       "  connectionDegree                                                job  \\\n",
       "0               2º  Coordenadora de Recrutamento e Seleção - Luiza...   \n",
       "1               2º                  Coordenadora de Gestão de Pessoas   \n",
       "2               2º  Coordenadora de Recrutamento e Seleção na Maga...   \n",
       "3               2º  Analista de Recrutamento e Seleção no Magazine...   \n",
       "4              3º+                  Coordenadora de Gestão de Pessoas   \n",
       "\n",
       "        location                                  sharedConnections  \\\n",
       "0  São Paulo, SP  Murilo Gun, Renata Corotti e 12 outras conexõe...   \n",
       "1   Curitiba, PR               Rodrigo Sarlo é uma conexão em comum   \n",
       "2  São Paulo, SP  Rodrigo Sarlo, José Alves do Monte e 4 outras ...   \n",
       "3  São Paulo, SP  Leo Cesar Melo, Rodrigo Sarlo e 4 outras conex...   \n",
       "4   Salvador, BA                                                NaN   \n",
       "\n",
       "                                   commonConnection1  \\\n",
       "0  https://www.linkedin.com/in/ACoAAAAGiM4BmEwyac...   \n",
       "1  https://www.linkedin.com/in/ACoAAAT-0A0BfBrCl7...   \n",
       "2  https://www.linkedin.com/in/ACoAAAT-0A0BfBrCl7...   \n",
       "3  https://www.linkedin.com/in/ACoAAATnNSYB9Cyi9t...   \n",
       "4                                                NaN   \n",
       "\n",
       "                                   commonConnection2  \\\n",
       "0  https://www.linkedin.com/in/ACoAAAGOiGEBL7SE9a...   \n",
       "1                                                NaN   \n",
       "2  https://www.linkedin.com/in/ACoAAAdTjgEBhthWov...   \n",
       "3  https://www.linkedin.com/in/ACoAAAT-0A0BfBrCl7...   \n",
       "4                                                NaN   \n",
       "\n",
       "                                                 url  \\\n",
       "0  https://www.linkedin.com/in/stefanie-joana-gar...   \n",
       "1  https://www.linkedin.com/in/larissa-pedroso-01...   \n",
       "2  https://www.linkedin.com/in/jaqueline-fernande...   \n",
       "3        https://www.linkedin.com/in/michele-machado   \n",
       "4  https://www.linkedin.com/in/jamile-coelho-sale...   \n",
       "\n",
       "                               name  \\\n",
       "0  Stefanie Joana Garcia Cavalcanti   \n",
       "1                   Larissa Pedroso   \n",
       "2               Jaqueline Fernandes   \n",
       "3          Michele Machado Bernardo   \n",
       "4               Jamile Coelho Sales   \n",
       "\n",
       "                                               query category  \\\n",
       "0  https://www.linkedin.com/search/results/people...   People   \n",
       "1  https://www.linkedin.com/search/results/people...   People   \n",
       "2  https://www.linkedin.com/search/results/people...   People   \n",
       "3  https://www.linkedin.com/search/results/people...   People   \n",
       "4  https://www.linkedin.com/search/results/people...   People   \n",
       "\n",
       "                  timestamp error  \n",
       "0  2021-09-26T15:25:32.519Z   NaN  \n",
       "1  2021-09-26T15:25:32.519Z   NaN  \n",
       "2  2021-09-26T15:25:32.519Z   NaN  \n",
       "3  2021-09-26T15:25:32.519Z   NaN  \n",
       "4  2021-09-26T15:25:32.519Z   NaN  "
      ]
     },
     "execution_count": 158,
     "metadata": {},
     "output_type": "execute_result"
    }
   ],
   "source": [
    "nomes_ml.head()"
   ]
  },
  {
   "cell_type": "markdown",
   "id": "8362bd42-b8cc-4c02-ac50-cd7b6a154e80",
   "metadata": {},
   "source": [
    "Para nós, só interessa a coluna contendo o primeiro nome do colaborador, portanto, podemos descartar as demais e excluir registros com valores nulos."
   ]
  },
  {
   "cell_type": "code",
   "execution_count": 159,
   "id": "448c3569-d5f9-4176-902e-ddd609378b8f",
   "metadata": {},
   "outputs": [
    {
     "name": "stdout",
     "output_type": "stream",
     "text": [
      "Shape:  (990, 1)\n"
     ]
    },
    {
     "data": {
      "text/html": [
       "<div>\n",
       "<style scoped>\n",
       "    .dataframe tbody tr th:only-of-type {\n",
       "        vertical-align: middle;\n",
       "    }\n",
       "\n",
       "    .dataframe tbody tr th {\n",
       "        vertical-align: top;\n",
       "    }\n",
       "\n",
       "    .dataframe thead th {\n",
       "        text-align: right;\n",
       "    }\n",
       "</style>\n",
       "<table border=\"1\" class=\"dataframe\">\n",
       "  <thead>\n",
       "    <tr style=\"text-align: right;\">\n",
       "      <th></th>\n",
       "      <th>firstName</th>\n",
       "    </tr>\n",
       "  </thead>\n",
       "  <tbody>\n",
       "    <tr>\n",
       "      <th>0</th>\n",
       "      <td>Stefanie</td>\n",
       "    </tr>\n",
       "    <tr>\n",
       "      <th>1</th>\n",
       "      <td>Larissa</td>\n",
       "    </tr>\n",
       "    <tr>\n",
       "      <th>2</th>\n",
       "      <td>Jaqueline</td>\n",
       "    </tr>\n",
       "    <tr>\n",
       "      <th>3</th>\n",
       "      <td>Michele</td>\n",
       "    </tr>\n",
       "    <tr>\n",
       "      <th>4</th>\n",
       "      <td>Jamile</td>\n",
       "    </tr>\n",
       "  </tbody>\n",
       "</table>\n",
       "</div>"
      ],
      "text/plain": [
       "   firstName\n",
       "0   Stefanie\n",
       "1    Larissa\n",
       "2  Jaqueline\n",
       "3    Michele\n",
       "4     Jamile"
      ]
     },
     "execution_count": 159,
     "metadata": {},
     "output_type": "execute_result"
    }
   ],
   "source": [
    "nomes_ml = nomes_ml[['firstName']].dropna()\n",
    "print(\"Shape: \", nomes_ml.shape)\n",
    "nomes_ml.head()"
   ]
  },
  {
   "cell_type": "markdown",
   "id": "bcfe6d11-c259-4124-a22b-aa6873094036",
   "metadata": {},
   "source": [
    "### 3.1.2) Criação do modelo de machine learning que irá fazer a classificação de gênero dos colaboradores a partir de seus nomes."
   ]
  },
  {
   "cell_type": "markdown",
   "id": "c7645c5b-ca1c-4dc1-ba7d-c2298491b665",
   "metadata": {},
   "source": [
    "Para fazermos a classificação de gênero, iremos utilizar a biblioteca NLTK (https://www.nltk.org/) que contém pacotes voltados para processamento de linguagem natural (NLP). Como primeiro passo, iremos retornar uma lista contendo pares de valores de nomes e gêneros associados já embarcados no sistema interno do pacote."
   ]
  },
  {
   "cell_type": "code",
   "execution_count": 161,
   "id": "0ee9e59d-fa55-4533-8776-7f12deadda35",
   "metadata": {},
   "outputs": [],
   "source": [
    "Gender_names = ([(name, 'male') for name in names.words('male.txt')] +\n",
    "[(name, 'female') for name in names.words('female.txt')])\n",
    "random.shuffle(Gender_names)"
   ]
  },
  {
   "cell_type": "code",
   "execution_count": 162,
   "id": "1a790474-63fb-49a6-bd74-437d69755b12",
   "metadata": {},
   "outputs": [
    {
     "data": {
      "text/plain": [
       "[('Stephannie', 'female'),\n",
       " ('Rikki', 'male'),\n",
       " ('Melina', 'female'),\n",
       " ('Wilhelmine', 'female'),\n",
       " ('Whit', 'male'),\n",
       " ('Eleonora', 'female'),\n",
       " ('Nancee', 'female'),\n",
       " ('Bjorne', 'male'),\n",
       " ('Sheri', 'female'),\n",
       " ('Sonni', 'female'),\n",
       " ('Cindra', 'female'),\n",
       " ('Bert', 'female'),\n",
       " ('Thaddeus', 'male'),\n",
       " ('Jeffry', 'male'),\n",
       " ('Danica', 'female'),\n",
       " ('Ranna', 'female'),\n",
       " ('Lust', 'female'),\n",
       " ('Jeannette', 'female'),\n",
       " ('Brea', 'female'),\n",
       " ('Mia', 'female')]"
      ]
     },
     "execution_count": 162,
     "metadata": {},
     "output_type": "execute_result"
    }
   ],
   "source": [
    "Gender_names[:20]"
   ]
  },
  {
   "cell_type": "markdown",
   "id": "7c46c2b0-2279-4488-81ef-dd9cdbf2fdd8",
   "metadata": {},
   "source": [
    "A seguir, podemos contar a quantidade total de nomes cadastrados no arquivo interno da biblioteca, assim como a distribuição destes entre gêneros masculinos e femininos:"
   ]
  },
  {
   "cell_type": "code",
   "execution_count": 163,
   "id": "ecf07215-9186-48e8-9453-39dca0206969",
   "metadata": {},
   "outputs": [
    {
     "name": "stdout",
     "output_type": "stream",
     "text": [
      "Total Male: 2943 and Female: 5001 in dataset of size: 7944.\n"
     ]
    }
   ],
   "source": [
    "Gender_names[0:10] \n",
    "len(Gender_names)\n",
    "Gender_names_g= [g for (n,g) in Gender_names]\n",
    "Gender_names_m = Gender_names_g.count('male')\n",
    "Gender_names_f = Gender_names_g.count('female')\n",
    "print(\"Total Male: {} and Female: {} in dataset of size: {}.\".format(Gender_names_m,Gender_names_f,len(Gender_names_g)))"
   ]
  },
  {
   "cell_type": "markdown",
   "id": "c632aee7-6fe6-46ba-b0b7-7bca83ce8bd6",
   "metadata": {},
   "source": [
    "Para o nosso modelo, iremos utilizar um método que utiliza como parâmetros a primeira letra do nome, a última letra do nome e a contagem de letras totais do nome. Abaixo, criamos uma função que, para dado um nome qualquer, retorna esses valores."
   ]
  },
  {
   "cell_type": "code",
   "execution_count": 164,
   "id": "10523aa7-21ae-471e-8824-0bceca19a669",
   "metadata": {},
   "outputs": [],
   "source": [
    "def gender_features_az(name):\n",
    "    features = {}\n",
    "    features[\"firstletter\"] = name[0].lower()\n",
    "    features[\"lastletter\"] = name[-1].lower()\n",
    "    for letter in 'abcdefghijklmnopqrstuvwxyz':\n",
    "        features[\"count(%s)\" % letter] = name.lower().count(letter)\n",
    "        features[\"has(%s)\" % letter] = (letter in name.lower())\n",
    "    return features"
   ]
  },
  {
   "cell_type": "code",
   "execution_count": 165,
   "id": "9131fa02-0166-490c-ab9d-798068ba56c4",
   "metadata": {},
   "outputs": [
    {
     "data": {
      "text/plain": [
       "{'firstletter': 'n',\n",
       " 'lastletter': 'l',\n",
       " 'count(a)': 3,\n",
       " 'has(a)': True,\n",
       " 'count(b)': 0,\n",
       " 'has(b)': False,\n",
       " 'count(c)': 1,\n",
       " 'has(c)': True,\n",
       " 'count(d)': 0,\n",
       " 'has(d)': False,\n",
       " 'count(e)': 0,\n",
       " 'has(e)': False,\n",
       " 'count(f)': 0,\n",
       " 'has(f)': False,\n",
       " 'count(g)': 0,\n",
       " 'has(g)': False,\n",
       " 'count(h)': 0,\n",
       " 'has(h)': False,\n",
       " 'count(i)': 2,\n",
       " 'has(i)': True,\n",
       " 'count(j)': 0,\n",
       " 'has(j)': False,\n",
       " 'count(k)': 0,\n",
       " 'has(k)': False,\n",
       " 'count(l)': 1,\n",
       " 'has(l)': True,\n",
       " 'count(m)': 0,\n",
       " 'has(m)': False,\n",
       " 'count(n)': 1,\n",
       " 'has(n)': True,\n",
       " 'count(o)': 0,\n",
       " 'has(o)': False,\n",
       " 'count(p)': 1,\n",
       " 'has(p)': True,\n",
       " 'count(q)': 0,\n",
       " 'has(q)': False,\n",
       " 'count(r)': 0,\n",
       " 'has(r)': False,\n",
       " 'count(s)': 0,\n",
       " 'has(s)': False,\n",
       " 'count(t)': 1,\n",
       " 'has(t)': True,\n",
       " 'count(u)': 0,\n",
       " 'has(u)': False,\n",
       " 'count(v)': 1,\n",
       " 'has(v)': True,\n",
       " 'count(w)': 0,\n",
       " 'has(w)': False,\n",
       " 'count(x)': 0,\n",
       " 'has(x)': False,\n",
       " 'count(y)': 0,\n",
       " 'has(y)': False,\n",
       " 'count(z)': 0,\n",
       " 'has(z)': False}"
      ]
     },
     "execution_count": 165,
     "metadata": {},
     "output_type": "execute_result"
    }
   ],
   "source": [
    "gender_features_az(\"Navi Capital\")"
   ]
  },
  {
   "cell_type": "markdown",
   "id": "71410e98-55dc-42b4-82db-70b8378887dd",
   "metadata": {},
   "source": [
    "Por fim, iremos criar uma lista contendo todos os outputs forneceidos pela função anterior para cada nome da lista Gender_names. Essa lista final, chamada de features_az, será utilizada para treinar e testar o nosso modelo, que irá utilizar o métoo Naive Bayes de classificação."
   ]
  },
  {
   "cell_type": "code",
   "execution_count": 166,
   "id": "778e5db2-5e5f-482d-882c-c34a35937d10",
   "metadata": {},
   "outputs": [
    {
     "name": "stdout",
     "output_type": "stream",
     "text": [
      "Acurácia do modelo:  0.77\n"
     ]
    }
   ],
   "source": [
    "featuresets_az = [(gender_features_az(n), g) for (n,g) in Gender_names]\n",
    "train_set, test_set = featuresets_az[500:], featuresets_az[:500]\n",
    "classifier_az = nltk.NaiveBayesClassifier.train(train_set)\n",
    "accuracy_az= nltk.classify.accuracy(classifier_az, test_set)\n",
    "print(\"Acurácia do modelo: \", accuracy_az)"
   ]
  },
  {
   "cell_type": "markdown",
   "id": "c01afd9a-0c81-44d8-b305-24123fa7c56d",
   "metadata": {},
   "source": [
    "A seguir, vamos testar o modelo para prever o gênero de cada membro do nosso grupo"
   ]
  },
  {
   "cell_type": "code",
   "execution_count": 167,
   "id": "78882cb0-b3a5-4150-b83d-73b6236697a4",
   "metadata": {},
   "outputs": [
    {
     "data": {
      "text/plain": [
       "[['Henrique', 'male'],\n",
       " ['Leticia', 'female'],\n",
       " ['Lucas', 'male'],\n",
       " ['Matheus', 'male'],\n",
       " ['Milena', 'female']]"
      ]
     },
     "execution_count": 167,
     "metadata": {},
     "output_type": "execute_result"
    }
   ],
   "source": [
    "membros = ['Henrique', 'Leticia', 'Lucas', 'Matheus', 'Milena']\n",
    "\n",
    "[[i, classifier_az.classify(gender_features_az(i))] for i in membros]"
   ]
  },
  {
   "cell_type": "markdown",
   "id": "be838dd3-fff2-487c-83ef-e317c715f2eb",
   "metadata": {},
   "source": [
    "## 3.1.3) Preenchimento do dataset e contagem da distribuição"
   ]
  },
  {
   "cell_type": "markdown",
   "id": "6764931d-22a9-4acc-a651-d8b20c0a0bdd",
   "metadata": {},
   "source": [
    "De posse do modelo e da lista de colaboradores da organização, podemos descobrir como está a distribuição destes em gênero. Importante destacar que, quando mais balanceado for (cada gênero mais próximo de 50%), melhor avaliada será a organização"
   ]
  },
  {
   "cell_type": "code",
   "execution_count": 168,
   "id": "0cdde30a-bda4-4ad9-be81-afdf9fa731f5",
   "metadata": {},
   "outputs": [],
   "source": [
    "nomes_generos = [[i, classifier_az.classify(gender_features_az(i))] for i in nomes_ml['firstName'].to_list()]"
   ]
  },
  {
   "cell_type": "code",
   "execution_count": 169,
   "id": "3c715419-bb96-48b3-8811-6300ea6cdc42",
   "metadata": {},
   "outputs": [
    {
     "name": "stdout",
     "output_type": "stream",
     "text": [
      "Total employees: 990\n",
      "Total male: 0.37373737373737376\n",
      "Total female: 0.6262626262626263\n"
     ]
    }
   ],
   "source": [
    "generos= [g for (n,g) in nomes_generos]\n",
    "males = generos.count('male')/len(generos)\n",
    "females = generos.count('female')/len(generos)\n",
    "print(\"Total employees: {}\".format(len(generos)))\n",
    "print(\"Total male: {}\".format(males))\n",
    "print(\"Total female: {}\".format(females))"
   ]
  },
  {
   "cell_type": "markdown",
   "id": "41d294a3-3895-47ea-b3d7-829b16c393bd",
   "metadata": {},
   "source": [
    "O nosso score para este quesito será dado pelo produto entre o percentual de mulheres e o percentual de homens da organização, dado que este valor é maximizado justamente quando ambos os valores são 50%, resultado, portanto, em 0.25 como valor máximo. "
   ]
  },
  {
   "cell_type": "code",
   "execution_count": 170,
   "id": "695d0c60-e8d8-4a41-9bac-3dea98cd7d1b",
   "metadata": {},
   "outputs": [
    {
     "data": {
      "text/plain": [
       "0.2340577492092644"
      ]
     },
     "execution_count": 170,
     "metadata": {},
     "output_type": "execute_result"
    }
   ],
   "source": [
    "score = (males*females)\n",
    "score"
   ]
  },
  {
   "cell_type": "markdown",
   "id": "e72e3336-e76a-430e-80dd-6b56bcc1c761",
   "metadata": {},
   "source": [
    "## 3.2) Americanas S.A."
   ]
  },
  {
   "cell_type": "markdown",
   "id": "7ce3a012-2c05-4c88-8468-0109474761cb",
   "metadata": {},
   "source": [
    "### 3.2.1) Importação e limpeza dos dados de colaboradores "
   ]
  },
  {
   "cell_type": "markdown",
   "id": "bdb1a50e-91e3-4def-986c-7edff5231515",
   "metadata": {},
   "source": [
    "De forma análoga, iremos novamente realizar o download da planilha contendo os 1.000 registros de funcionários da Americanas S.A., obtidos via web scrapping."
   ]
  },
  {
   "cell_type": "code",
   "execution_count": 171,
   "id": "84543191-bfc8-4ada-bc0a-5a2d1747dc7d",
   "metadata": {},
   "outputs": [
    {
     "name": "stdout",
     "output_type": "stream",
     "text": [
      "Shape:  (968, 19)\n",
      "Colunas:  Index(['profileUrl', 'fullName', 'firstName', 'lastName', 'profileImageUrl',\n",
      "       'currentJob', 'pastJob', 'connectionDegree', 'job', 'location',\n",
      "       'sharedConnections', 'commonConnection1', 'commonConnection2', 'url',\n",
      "       'name', 'query', 'category', 'timestamp', 'error'],\n",
      "      dtype='object')\n"
     ]
    }
   ],
   "source": [
    "nomes_am = pd.read_csv(\"americanas.csv\")\n",
    "print(\"Shape: \", nomes_am.shape)\n",
    "print(\"Colunas: \", nomes_am.columns)"
   ]
  },
  {
   "cell_type": "code",
   "execution_count": 172,
   "id": "704bf120-a0d5-4ffd-ae55-a96b98139b93",
   "metadata": {},
   "outputs": [
    {
     "data": {
      "text/html": [
       "<div>\n",
       "<style scoped>\n",
       "    .dataframe tbody tr th:only-of-type {\n",
       "        vertical-align: middle;\n",
       "    }\n",
       "\n",
       "    .dataframe tbody tr th {\n",
       "        vertical-align: top;\n",
       "    }\n",
       "\n",
       "    .dataframe thead th {\n",
       "        text-align: right;\n",
       "    }\n",
       "</style>\n",
       "<table border=\"1\" class=\"dataframe\">\n",
       "  <thead>\n",
       "    <tr style=\"text-align: right;\">\n",
       "      <th></th>\n",
       "      <th>profileUrl</th>\n",
       "      <th>fullName</th>\n",
       "      <th>firstName</th>\n",
       "      <th>lastName</th>\n",
       "      <th>profileImageUrl</th>\n",
       "      <th>currentJob</th>\n",
       "      <th>pastJob</th>\n",
       "      <th>connectionDegree</th>\n",
       "      <th>job</th>\n",
       "      <th>location</th>\n",
       "      <th>sharedConnections</th>\n",
       "      <th>commonConnection1</th>\n",
       "      <th>commonConnection2</th>\n",
       "      <th>url</th>\n",
       "      <th>name</th>\n",
       "      <th>query</th>\n",
       "      <th>category</th>\n",
       "      <th>timestamp</th>\n",
       "      <th>error</th>\n",
       "    </tr>\n",
       "  </thead>\n",
       "  <tbody>\n",
       "    <tr>\n",
       "      <th>0</th>\n",
       "      <td>https://www.linkedin.com/in/andradetf</td>\n",
       "      <td>Tiago Andrade</td>\n",
       "      <td>Tiago</td>\n",
       "      <td>Andrade</td>\n",
       "      <td>https://media-exp1.licdn.com/dms/image/C4E03AQ...</td>\n",
       "      <td>NaN</td>\n",
       "      <td>NaN</td>\n",
       "      <td>2º</td>\n",
       "      <td>Data &amp; Product</td>\n",
       "      <td>Rio de Janeiro, Brasil</td>\n",
       "      <td>Thiago Marques (Pregador de Gauss, Fisher, Ber...</td>\n",
       "      <td>https://www.linkedin.com/in/ACoAABC2yqgBJrJ54O...</td>\n",
       "      <td>https://www.linkedin.com/in/ACoAABwNEZ4Bds3xI9...</td>\n",
       "      <td>https://www.linkedin.com/in/andradetf</td>\n",
       "      <td>Tiago Andrade</td>\n",
       "      <td>https://www.linkedin.com/search/results/people...</td>\n",
       "      <td>People</td>\n",
       "      <td>2021-09-26T19:05:59.856Z</td>\n",
       "      <td>NaN</td>\n",
       "    </tr>\n",
       "    <tr>\n",
       "      <th>1</th>\n",
       "      <td>https://www.linkedin.com/in/gabriel-marques-98...</td>\n",
       "      <td>Gabriel Marques</td>\n",
       "      <td>Gabriel</td>\n",
       "      <td>Marques</td>\n",
       "      <td>https://media-exp1.licdn.com/dms/image/C4E03AQ...</td>\n",
       "      <td>NaN</td>\n",
       "      <td>NaN</td>\n",
       "      <td>2º</td>\n",
       "      <td>Analista de operações na Americanas</td>\n",
       "      <td>Nova Iguaçu, RJ</td>\n",
       "      <td>Rômulo Pinto Paiva Amaral é uma conexão em comum</td>\n",
       "      <td>https://www.linkedin.com/in/ACoAABwNEZ4Bds3xI9...</td>\n",
       "      <td>NaN</td>\n",
       "      <td>https://www.linkedin.com/in/gabriel-marques-98...</td>\n",
       "      <td>Gabriel Marques</td>\n",
       "      <td>https://www.linkedin.com/search/results/people...</td>\n",
       "      <td>People</td>\n",
       "      <td>2021-09-26T19:05:59.856Z</td>\n",
       "      <td>NaN</td>\n",
       "    </tr>\n",
       "    <tr>\n",
       "      <th>2</th>\n",
       "      <td>https://www.linkedin.com/in/lucas-gomes-44447a11a</td>\n",
       "      <td>Lucas Gomes</td>\n",
       "      <td>Lucas</td>\n",
       "      <td>Gomes</td>\n",
       "      <td>https://media-exp1.licdn.com/dms/image/C4E03AQ...</td>\n",
       "      <td>NaN</td>\n",
       "      <td>NaN</td>\n",
       "      <td>2º</td>\n",
       "      <td>Analista de inteligência de negócios | America...</td>\n",
       "      <td>Rio de Janeiro, RJ</td>\n",
       "      <td>Thiago Marques (Pregador de Gauss, Fisher, Ber...</td>\n",
       "      <td>https://www.linkedin.com/in/ACoAABC2yqgBJrJ54O...</td>\n",
       "      <td>NaN</td>\n",
       "      <td>https://www.linkedin.com/in/lucas-gomes-44447a11a</td>\n",
       "      <td>Lucas Gomes</td>\n",
       "      <td>https://www.linkedin.com/search/results/people...</td>\n",
       "      <td>People</td>\n",
       "      <td>2021-09-26T19:05:59.856Z</td>\n",
       "      <td>NaN</td>\n",
       "    </tr>\n",
       "    <tr>\n",
       "      <th>3</th>\n",
       "      <td>https://www.linkedin.com/in/guilherme-moraes-1...</td>\n",
       "      <td>Guilherme Moraes</td>\n",
       "      <td>Guilherme</td>\n",
       "      <td>Moraes</td>\n",
       "      <td>https://media-exp1.licdn.com/dms/image/C4D03AQ...</td>\n",
       "      <td>NaN</td>\n",
       "      <td>NaN</td>\n",
       "      <td>2º</td>\n",
       "      <td>Desenvolvedor Backend</td>\n",
       "      <td>São Paulo, SP</td>\n",
       "      <td>Thiago Marques (Pregador de Gauss, Fisher, Ber...</td>\n",
       "      <td>https://www.linkedin.com/in/ACoAABC2yqgBJrJ54O...</td>\n",
       "      <td>NaN</td>\n",
       "      <td>https://www.linkedin.com/in/guilherme-moraes-1...</td>\n",
       "      <td>Guilherme Moraes</td>\n",
       "      <td>https://www.linkedin.com/search/results/people...</td>\n",
       "      <td>People</td>\n",
       "      <td>2021-09-26T19:05:59.856Z</td>\n",
       "      <td>NaN</td>\n",
       "    </tr>\n",
       "    <tr>\n",
       "      <th>4</th>\n",
       "      <td>https://www.linkedin.com/in/yuri-lovalho</td>\n",
       "      <td>Yuri Lovalho</td>\n",
       "      <td>Yuri</td>\n",
       "      <td>Lovalho</td>\n",
       "      <td>https://media-exp1.licdn.com/dms/image/C4E03AQ...</td>\n",
       "      <td>NaN</td>\n",
       "      <td>NaN</td>\n",
       "      <td>2º</td>\n",
       "      <td>Product Owner | Americanas s.a.</td>\n",
       "      <td>São Paulo, SP</td>\n",
       "      <td>NaN</td>\n",
       "      <td>NaN</td>\n",
       "      <td>NaN</td>\n",
       "      <td>https://www.linkedin.com/in/yuri-lovalho</td>\n",
       "      <td>Yuri Lovalho</td>\n",
       "      <td>https://www.linkedin.com/search/results/people...</td>\n",
       "      <td>People</td>\n",
       "      <td>2021-09-26T19:05:59.856Z</td>\n",
       "      <td>NaN</td>\n",
       "    </tr>\n",
       "  </tbody>\n",
       "</table>\n",
       "</div>"
      ],
      "text/plain": [
       "                                          profileUrl          fullName  \\\n",
       "0              https://www.linkedin.com/in/andradetf     Tiago Andrade   \n",
       "1  https://www.linkedin.com/in/gabriel-marques-98...   Gabriel Marques   \n",
       "2  https://www.linkedin.com/in/lucas-gomes-44447a11a       Lucas Gomes   \n",
       "3  https://www.linkedin.com/in/guilherme-moraes-1...  Guilherme Moraes   \n",
       "4           https://www.linkedin.com/in/yuri-lovalho      Yuri Lovalho   \n",
       "\n",
       "   firstName lastName                                    profileImageUrl  \\\n",
       "0      Tiago  Andrade  https://media-exp1.licdn.com/dms/image/C4E03AQ...   \n",
       "1    Gabriel  Marques  https://media-exp1.licdn.com/dms/image/C4E03AQ...   \n",
       "2      Lucas    Gomes  https://media-exp1.licdn.com/dms/image/C4E03AQ...   \n",
       "3  Guilherme   Moraes  https://media-exp1.licdn.com/dms/image/C4D03AQ...   \n",
       "4       Yuri  Lovalho  https://media-exp1.licdn.com/dms/image/C4E03AQ...   \n",
       "\n",
       "   currentJob  pastJob connectionDegree  \\\n",
       "0         NaN      NaN               2º   \n",
       "1         NaN      NaN               2º   \n",
       "2         NaN      NaN               2º   \n",
       "3         NaN      NaN               2º   \n",
       "4         NaN      NaN               2º   \n",
       "\n",
       "                                                 job                location  \\\n",
       "0                                     Data & Product  Rio de Janeiro, Brasil   \n",
       "1                Analista de operações na Americanas         Nova Iguaçu, RJ   \n",
       "2  Analista de inteligência de negócios | America...      Rio de Janeiro, RJ   \n",
       "3                              Desenvolvedor Backend           São Paulo, SP   \n",
       "4                    Product Owner | Americanas s.a.           São Paulo, SP   \n",
       "\n",
       "                                   sharedConnections  \\\n",
       "0  Thiago Marques (Pregador de Gauss, Fisher, Ber...   \n",
       "1   Rômulo Pinto Paiva Amaral é uma conexão em comum   \n",
       "2  Thiago Marques (Pregador de Gauss, Fisher, Ber...   \n",
       "3  Thiago Marques (Pregador de Gauss, Fisher, Ber...   \n",
       "4                                                NaN   \n",
       "\n",
       "                                   commonConnection1  \\\n",
       "0  https://www.linkedin.com/in/ACoAABC2yqgBJrJ54O...   \n",
       "1  https://www.linkedin.com/in/ACoAABwNEZ4Bds3xI9...   \n",
       "2  https://www.linkedin.com/in/ACoAABC2yqgBJrJ54O...   \n",
       "3  https://www.linkedin.com/in/ACoAABC2yqgBJrJ54O...   \n",
       "4                                                NaN   \n",
       "\n",
       "                                   commonConnection2  \\\n",
       "0  https://www.linkedin.com/in/ACoAABwNEZ4Bds3xI9...   \n",
       "1                                                NaN   \n",
       "2                                                NaN   \n",
       "3                                                NaN   \n",
       "4                                                NaN   \n",
       "\n",
       "                                                 url              name  \\\n",
       "0              https://www.linkedin.com/in/andradetf     Tiago Andrade   \n",
       "1  https://www.linkedin.com/in/gabriel-marques-98...   Gabriel Marques   \n",
       "2  https://www.linkedin.com/in/lucas-gomes-44447a11a       Lucas Gomes   \n",
       "3  https://www.linkedin.com/in/guilherme-moraes-1...  Guilherme Moraes   \n",
       "4           https://www.linkedin.com/in/yuri-lovalho      Yuri Lovalho   \n",
       "\n",
       "                                               query category  \\\n",
       "0  https://www.linkedin.com/search/results/people...   People   \n",
       "1  https://www.linkedin.com/search/results/people...   People   \n",
       "2  https://www.linkedin.com/search/results/people...   People   \n",
       "3  https://www.linkedin.com/search/results/people...   People   \n",
       "4  https://www.linkedin.com/search/results/people...   People   \n",
       "\n",
       "                  timestamp error  \n",
       "0  2021-09-26T19:05:59.856Z   NaN  \n",
       "1  2021-09-26T19:05:59.856Z   NaN  \n",
       "2  2021-09-26T19:05:59.856Z   NaN  \n",
       "3  2021-09-26T19:05:59.856Z   NaN  \n",
       "4  2021-09-26T19:05:59.856Z   NaN  "
      ]
     },
     "execution_count": 172,
     "metadata": {},
     "output_type": "execute_result"
    }
   ],
   "source": [
    "nomes_am.head()"
   ]
  },
  {
   "cell_type": "markdown",
   "id": "26bcb8ca-1292-4919-91cd-69342b707e1b",
   "metadata": {},
   "source": [
    "Também iremos separar apenas a coluna de interesse, contendo os nomes dos colaboradores e deletar os registros com valores nulos."
   ]
  },
  {
   "cell_type": "markdown",
   "id": "f9962727-8b2d-4f7c-b30d-85d4e08d994b",
   "metadata": {},
   "source": [
    "nomes_am = nomes_am[['firstName']].dropna()\n",
    "print(\"Shape: \", nomes_am.shape)\n",
    "nomes_am.head()"
   ]
  },
  {
   "cell_type": "markdown",
   "id": "73dc23a8-d6de-44a8-ab0b-1ce4fcfeb8f3",
   "metadata": {},
   "source": [
    "### 3.2.2) Preenchimento do dataset e contagem da distribuição"
   ]
  },
  {
   "cell_type": "markdown",
   "id": "b9c719b2-100e-46c5-96e8-636eff5b2735",
   "metadata": {},
   "source": [
    "Dado que o modelo ja foi desenvolvido na etapa 3.1.2, basta apenas o aplicarmos para fazer o preenchimento da base de dados e realizarmos a análise da distribuição de gêneros."
   ]
  },
  {
   "cell_type": "code",
   "execution_count": 175,
   "id": "4b11ea44-9cb8-46d5-a143-e75e188a25f2",
   "metadata": {},
   "outputs": [
    {
     "name": "stdout",
     "output_type": "stream",
     "text": [
      "Total employees: 871\n",
      "Total male: 0.34902411021814006\n",
      "Total female: 0.6509758897818599\n"
     ]
    }
   ],
   "source": [
    "nomes_generos = [[i, classifier_az.classify(gender_features_az(i))] for i in nomes_am['firstName'].to_list()]\n",
    "generos= [g for (n,g) in nomes_generos]\n",
    "males = generos.count('male')/len(generos)\n",
    "females = generos.count('female')/len(generos)\n",
    "print(\"Total employees: {}\".format(len(generos)))\n",
    "print(\"Total male: {}\".format(males))\n",
    "print(\"Total female: {}\".format(females))"
   ]
  },
  {
   "cell_type": "markdown",
   "id": "7fb87d21-701c-44f7-bdf8-41dd5368d452",
   "metadata": {},
   "source": [
    "Assim, podemos calcular o score de diversidade para a Americanas S.A."
   ]
  },
  {
   "cell_type": "code",
   "execution_count": 176,
   "id": "d2a2a92d-3b5b-43bb-8d16-6cda6ba20a5e",
   "metadata": {},
   "outputs": [
    {
     "data": {
      "text/plain": [
       "0.22720628070457569"
      ]
     },
     "execution_count": 176,
     "metadata": {},
     "output_type": "execute_result"
    }
   ],
   "source": [
    "score = (males*females)\n",
    "score"
   ]
  },
  {
   "cell_type": "markdown",
   "id": "2f19d506-4532-4619-a2e6-3c317d9997f4",
   "metadata": {},
   "source": [
    "# 4) Compilação das métricas e cálculo do score final"
   ]
  },
  {
   "cell_type": "markdown",
   "id": "ee1d1861-99e6-47f3-bd55-03b6f8004909",
   "metadata": {},
   "source": [
    "Na última etapa, iremos adicionar as métricas calculadas e as demais em um dataframe final e por fim calcular o score de cada organização. De forma compilada, temos que:\n",
    "\n",
    "- **Magazine Luiza**:\n",
    "    - Score de diversidade: 0.23\n",
    "    - Nota do Glassdoor: 4.5 (fonte: https://www.glassdoor.com.br/Avalia%C3%A7%C3%B5es/Magazine-Luiza-Avalia%C3%A7%C3%B5es-E382606.htm)\n",
    "    - Nota do ReclameAqui: 8.7 (fonte: https://www.reclameaqui.com.br/empresa/magazine-luiza-loja-online/)\n",
    "    \n",
    "- **Americanas**:\n",
    "    - Score de diversidade: 0.22\n",
    "    - Nota do Glassdoor: 3.8 (fonte: https://www.glassdoor.com.br/Vis%C3%A3o-geral/Trabalhar-na-americanas-s-a-EI_IE10939.13,27.htm)\n",
    "    - Nota do ReclameAqui: 8.9 (fonte: https://www.reclameaqui.com.br/empresa/americanas-com-loja-online/)"
   ]
  },
  {
   "cell_type": "code",
   "execution_count": 191,
   "id": "c8be2c00-184c-47e1-bf9b-6940f0451ce4",
   "metadata": {},
   "outputs": [
    {
     "data": {
      "text/html": [
       "<div>\n",
       "<style scoped>\n",
       "    .dataframe tbody tr th:only-of-type {\n",
       "        vertical-align: middle;\n",
       "    }\n",
       "\n",
       "    .dataframe tbody tr th {\n",
       "        vertical-align: top;\n",
       "    }\n",
       "\n",
       "    .dataframe thead th {\n",
       "        text-align: right;\n",
       "    }\n",
       "</style>\n",
       "<table border=\"1\" class=\"dataframe\">\n",
       "  <thead>\n",
       "    <tr style=\"text-align: right;\">\n",
       "      <th></th>\n",
       "      <th>Nome</th>\n",
       "      <th>Diversidade</th>\n",
       "      <th>Glassdoor</th>\n",
       "      <th>ReclameAqui</th>\n",
       "    </tr>\n",
       "  </thead>\n",
       "  <tbody>\n",
       "    <tr>\n",
       "      <th>0</th>\n",
       "      <td>Magazine Luiza</td>\n",
       "      <td>0.23</td>\n",
       "      <td>4.5</td>\n",
       "      <td>8.7</td>\n",
       "    </tr>\n",
       "    <tr>\n",
       "      <th>1</th>\n",
       "      <td>Americana</td>\n",
       "      <td>0.22</td>\n",
       "      <td>3.8</td>\n",
       "      <td>8.9</td>\n",
       "    </tr>\n",
       "  </tbody>\n",
       "</table>\n",
       "</div>"
      ],
      "text/plain": [
       "             Nome  Diversidade  Glassdoor  ReclameAqui\n",
       "0  Magazine Luiza         0.23        4.5          8.7\n",
       "1       Americana         0.22        3.8          8.9"
      ]
     },
     "execution_count": 191,
     "metadata": {},
     "output_type": "execute_result"
    }
   ],
   "source": [
    "df = pd.DataFrame({'Nome':['Magazine Luiza','Americana'],\n",
    "                  'Diversidade':[0.23,0.22],\n",
    "                  'Glassdoor':[4.5,3.8],\n",
    "                  'ReclameAqui':[8.7,8.9]\n",
    "                  })\n",
    "df"
   ]
  },
  {
   "cell_type": "markdown",
   "id": "1122a9dc-e63e-41f8-9d67-04c927ebabc1",
   "metadata": {},
   "source": [
    "Vamos agora manipular as colunas para que ambas estejam sob uma mesma norma. Para a coluna 'Diversidade', o valor máximo a ser obtido é 0.25, logo iremos dividir todos os seus valores por este. O mesmo se aplica a coluna 'Glassdoor', cuja base é 5 e a coluna 'ReclameAqui', cuja base é 10."
   ]
  },
  {
   "cell_type": "code",
   "execution_count": 192,
   "id": "55dbbed7-7b17-4fa4-9712-aeba5142fd1a",
   "metadata": {},
   "outputs": [
    {
     "data": {
      "text/html": [
       "<div>\n",
       "<style scoped>\n",
       "    .dataframe tbody tr th:only-of-type {\n",
       "        vertical-align: middle;\n",
       "    }\n",
       "\n",
       "    .dataframe tbody tr th {\n",
       "        vertical-align: top;\n",
       "    }\n",
       "\n",
       "    .dataframe thead th {\n",
       "        text-align: right;\n",
       "    }\n",
       "</style>\n",
       "<table border=\"1\" class=\"dataframe\">\n",
       "  <thead>\n",
       "    <tr style=\"text-align: right;\">\n",
       "      <th></th>\n",
       "      <th>Nome</th>\n",
       "      <th>Diversidade</th>\n",
       "      <th>Glassdoor</th>\n",
       "      <th>ReclameAqui</th>\n",
       "    </tr>\n",
       "  </thead>\n",
       "  <tbody>\n",
       "    <tr>\n",
       "      <th>0</th>\n",
       "      <td>Magazine Luiza</td>\n",
       "      <td>9.2</td>\n",
       "      <td>9.0</td>\n",
       "      <td>8.7</td>\n",
       "    </tr>\n",
       "    <tr>\n",
       "      <th>1</th>\n",
       "      <td>Americana</td>\n",
       "      <td>8.8</td>\n",
       "      <td>7.6</td>\n",
       "      <td>8.9</td>\n",
       "    </tr>\n",
       "  </tbody>\n",
       "</table>\n",
       "</div>"
      ],
      "text/plain": [
       "             Nome  Diversidade  Glassdoor  ReclameAqui\n",
       "0  Magazine Luiza          9.2        9.0          8.7\n",
       "1       Americana          8.8        7.6          8.9"
      ]
     },
     "execution_count": 192,
     "metadata": {},
     "output_type": "execute_result"
    }
   ],
   "source": [
    "df['Diversidade'] = (df['Diversidade']/0.25)*10\n",
    "df['Glassdoor'] = (df['Glassdoor']/5)*10\n",
    "df['ReclameAqui'] = (df['ReclameAqui']/10)*10\n",
    "\n",
    "df"
   ]
  },
  {
   "cell_type": "markdown",
   "id": "361782ca-5e08-4fab-8585-e471c3245bdf",
   "metadata": {},
   "source": [
    "Por fim, vamos criar uma nova coluna, chamada 'Score', que será a média aritmética das 3 anteriores. "
   ]
  },
  {
   "cell_type": "code",
   "execution_count": 193,
   "id": "af28486b-4eb4-4bb5-ba2d-26038c8c913d",
   "metadata": {},
   "outputs": [
    {
     "data": {
      "text/html": [
       "<div>\n",
       "<style scoped>\n",
       "    .dataframe tbody tr th:only-of-type {\n",
       "        vertical-align: middle;\n",
       "    }\n",
       "\n",
       "    .dataframe tbody tr th {\n",
       "        vertical-align: top;\n",
       "    }\n",
       "\n",
       "    .dataframe thead th {\n",
       "        text-align: right;\n",
       "    }\n",
       "</style>\n",
       "<table border=\"1\" class=\"dataframe\">\n",
       "  <thead>\n",
       "    <tr style=\"text-align: right;\">\n",
       "      <th></th>\n",
       "      <th>Nome</th>\n",
       "      <th>Diversidade</th>\n",
       "      <th>Glassdoor</th>\n",
       "      <th>ReclameAqui</th>\n",
       "      <th>Score</th>\n",
       "    </tr>\n",
       "  </thead>\n",
       "  <tbody>\n",
       "    <tr>\n",
       "      <th>0</th>\n",
       "      <td>Magazine Luiza</td>\n",
       "      <td>9.2</td>\n",
       "      <td>9.0</td>\n",
       "      <td>8.7</td>\n",
       "      <td>8.966667</td>\n",
       "    </tr>\n",
       "    <tr>\n",
       "      <th>1</th>\n",
       "      <td>Americana</td>\n",
       "      <td>8.8</td>\n",
       "      <td>7.6</td>\n",
       "      <td>8.9</td>\n",
       "      <td>8.433333</td>\n",
       "    </tr>\n",
       "  </tbody>\n",
       "</table>\n",
       "</div>"
      ],
      "text/plain": [
       "             Nome  Diversidade  Glassdoor  ReclameAqui     Score\n",
       "0  Magazine Luiza          9.2        9.0          8.7  8.966667\n",
       "1       Americana          8.8        7.6          8.9  8.433333"
      ]
     },
     "execution_count": 193,
     "metadata": {},
     "output_type": "execute_result"
    }
   ],
   "source": [
    "df['Score'] = ((df['Diversidade'] + df['Glassdoor'] +df['ReclameAqui'])/3)\n",
    "df"
   ]
  },
  {
   "cell_type": "code",
   "execution_count": 196,
   "id": "a0d39366-0c20-4183-ac1c-6892cacb4c66",
   "metadata": {},
   "outputs": [],
   "source": [
    "df.to_csv('scores')"
   ]
  },
  {
   "cell_type": "markdown",
   "id": "11fc25dc-41ed-4929-9451-a7388728471b",
   "metadata": {},
   "source": [
    "# 5) Considerações finais"
   ]
  },
  {
   "cell_type": "markdown",
   "id": "ca709aec-f890-4f88-a291-213f24fb8c84",
   "metadata": {},
   "source": [
    "Esse protótipo tem como objetivo trazer uma possível solução para tornarmos o ESG mais transparente e com menos greenwash. Hoje, os investidores estão mais criteriosos na hora de escolherem em quais organizações vão investir e, por isso, é importante que haja um acesso a informação que facilite o processo de tomada de decisão.\n",
    "\n",
    "Como próximos passos, temos o objetivo de aumentar o número de métricas ESG, englobando fatores de Enviromental e Governance, além de tornar o processo mais automatizado. Tambem temos como objetivo desenvolver soluções que comprovem matematicamente como métricas ESG altas estão correlacionadas com a perspectiva de valuation futuro das organizações, tornando assim, mais fácil para a comunidade compr"
   ]
  },
  {
   "cell_type": "code",
   "execution_count": null,
   "id": "e0f63776-b9c2-4991-806b-f56f6efa6945",
   "metadata": {},
   "outputs": [],
   "source": []
  }
 ],
 "metadata": {
  "kernelspec": {
   "display_name": "Python 3",
   "language": "python",
   "name": "python3"
  },
  "language_info": {
   "codemirror_mode": {
    "name": "ipython",
    "version": 3
   },
   "file_extension": ".py",
   "mimetype": "text/x-python",
   "name": "python",
   "nbconvert_exporter": "python",
   "pygments_lexer": "ipython3",
   "version": "3.8.8"
  }
 },
 "nbformat": 4,
 "nbformat_minor": 5
}
